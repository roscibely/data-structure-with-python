{
 "cells": [
  {
   "attachments": {},
   "cell_type": "markdown",
   "metadata": {},
   "source": [
    "# Arquivos com Python 3 \n",
    "\n",
    "\n",
    "Aula sobre manipulação de arquivos com Python 3."
   ]
  },
  {
   "attachments": {},
   "cell_type": "markdown",
   "metadata": {},
   "source": [
    "## Conteúdo\n",
    "\n",
    "### Introdução\n",
    "\n",
    "Os arquivos são uma das formas mais comuns de armazenamento de dados. Em Python, podemos manipular arquivos de forma simples e eficiente. Nesta aula, vamos aprender como ler e escrever arquivos com Python 3.\n",
    "\n",
    "### Lendo arquivos\n",
    "\n",
    "Para ler um arquivo, usamos a função `open()`. Essa função recebe dois parâmetros: o nome do arquivo e o modo de abertura. O modo de abertura pode ser `r` para leitura, `w` para escrita e `a` para anexar. Por exemplo, para ler o arquivo `arquivo.txt`, usamos:\n"
   ]
  },
  {
   "cell_type": "code",
   "execution_count": null,
   "metadata": {},
   "outputs": [],
   "source": [
    "# Importando o modulo os\n",
    "import os"
   ]
  },
  {
   "cell_type": "code",
   "execution_count": null,
   "metadata": {},
   "outputs": [],
   "source": [
    "arquivo = open(\"arquivo.txt\", \"r\")"
   ]
  },
  {
   "cell_type": "code",
   "execution_count": null,
   "metadata": {},
   "outputs": [],
   "source": [
    "# Lendo o conteudo do arquivo\n",
    "conteudo = arquivo.read()"
   ]
  },
  {
   "cell_type": "code",
   "execution_count": null,
   "metadata": {},
   "outputs": [],
   "source": [
    "# Imprimindo o conteudo do arquivo\n",
    "print(conteudo)"
   ]
  },
  {
   "cell_type": "code",
   "execution_count": null,
   "metadata": {},
   "outputs": [],
   "source": [
    "# Escrevendo no arquivo\n",
    "arquivo.write(\"Escrevendo no arquivo\")\n",
    "\n",
    "#imprimindo o conteudo do arquivo\n",
    "conteudo = arquivo.read()\n",
    "print(conteudo)"
   ]
  },
  {
   "cell_type": "code",
   "execution_count": null,
   "metadata": {},
   "outputs": [],
   "source": [
    "# Fechando o arquivo\n",
    "arquivo.close()"
   ]
  },
  {
   "cell_type": "code",
   "execution_count": null,
   "metadata": {},
   "outputs": [],
   "source": [
    "# Escrevendo no arquivo\n",
    "arquivo = open(\"arquivo.txt\", \"w\")\n",
    "\n",
    "# Escrevendo no arquivo\n",
    "arquivo.write(\"Escrevendo no arquivo\")\n",
    "\n",
    "# Fechando o arquivo\n",
    "arquivo.close()"
   ]
  },
  {
   "attachments": {},
   "cell_type": "markdown",
   "metadata": {},
   "source": [
    "## Manipulação de arquivos planilhas com Python 3\n",
    "\n",
    "Para manipular arquivos em formato de planilha, podemos usar a biblioteca `pandas`. Para instalar essa biblioteca, usamos o comando: `pip install pandas`. Para ler um arquivo em formato de planilha, primeiro precisamos importar a biblioteca:\n",
    "\n",
    "\n",
    "\n",
    "\n",
    "\n"
   ]
  },
  {
   "cell_type": "code",
   "execution_count": null,
   "metadata": {},
   "outputs": [],
   "source": [
    "import pandas"
   ]
  },
  {
   "cell_type": "code",
   "execution_count": null,
   "metadata": {},
   "outputs": [],
   "source": [
    "# Lendo o arquivo csv\n",
    "\n",
    "df = pandas.read_csv(\"arquivo.csv\")\n",
    "\n",
    "# Imprimindo o conteudo do arquivo\n",
    "\n",
    "print(df)\n",
    "\n",
    "# Lendo o arquivo xlsx\n",
    "\n",
    "df = pandas.read_excel(\"arquivo.xlsx\")\n",
    "\n",
    "# Imprimindo o conteudo do arquivo\n",
    "\n",
    "print(df)\n",
    "\n",
    "# Lendo o arquivo json\n",
    "\n",
    "df = pandas.read_json(\"arquivo.json\")\n",
    "\n",
    "# Imprimindo o conteudo do arquivo\n",
    "\n",
    "print(df)\n",
    "\n",
    "# Lendo arquivo txt \n",
    "arquivo = pandas.read_csv(\"arquivo.txt\")\n",
    "\n"
   ]
  },
  {
   "cell_type": "code",
   "execution_count": null,
   "metadata": {},
   "outputs": [],
   "source": [
    "# Salvando o arquivo csv\n",
    "\n",
    "df.to_csv(\"arquivo.csv\")\n",
    "\n",
    "# Salvando o arquivo xlsx\n",
    "\n",
    "df.to_excel(\"arquivo.xlsx\")"
   ]
  }
 ],
 "metadata": {
  "kernelspec": {
   "display_name": "Python 3",
   "language": "python",
   "name": "python3"
  },
  "language_info": {
   "name": "python",
   "version": "3.10.7"
  },
  "orig_nbformat": 4,
  "vscode": {
   "interpreter": {
    "hash": "26de051ba29f2982a8de78e945f0abaf191376122a1563185a90213a26c5da77"
   }
  }
 },
 "nbformat": 4,
 "nbformat_minor": 2
}
